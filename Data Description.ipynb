{
 "cells": [
  {
   "cell_type": "markdown",
   "metadata": {},
   "source": [
    "# Data Description"
   ]
  },
  {
   "cell_type": "markdown",
   "metadata": {},
   "source": [
    "\n",
    "Link: https://en.wikipedia.org/wiki/List_of_postal_codes_of_Canada:_M Dataset consisting of latitude and longitude, zip codes of Scarborough, Canada after cleaning in the 3rd week of Capstone.\n",
    "\n",
    "We will need data about different venues in different neighborhoods of that specific borough. In order to gain this information we are using \"Foursquare\" locational information. Foursquare is a very gigantic location data provider with information about all sorts of venues and events within any area. Such information includes venue names, locations, menus, photos and even reviews. As such, the foursquare location platform will be used as the sole data source, As all information we need is provided by foursquare there will be no need to rely on other data sources.\n",
    "\n",
    "After connecting to the Foursquare API to gather information about venues inside each and every neighborhood. For each neighborhood, the data retrieved from Foursquare contains information of venues within a specified distance of the longitude and latitude of the postcodes. The data for every venue is as follows:\n",
    "\n",
    "1. Neighborhood\n",
    "2. Neighborhood Latitude\n",
    "3. Neighborhood Longitude\n",
    "4. Venue\n",
    "5. Name of the venue\n",
    "6. Venue Latitude\n",
    "7. Venue Longitude\n",
    "8. Venue Category"
   ]
  },
  {
   "cell_type": "code",
   "execution_count": null,
   "metadata": {},
   "outputs": [],
   "source": []
  }
 ],
 "metadata": {
  "kernelspec": {
   "display_name": "Python 3",
   "language": "python",
   "name": "python3"
  }
 },
 "nbformat": 4,
 "nbformat_minor": 4
}
